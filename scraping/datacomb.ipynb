{
 "cells": [
  {
   "cell_type": "code",
   "execution_count": null,
   "metadata": {},
   "outputs": [],
   "source": [
    "import os\n",
    "import pandas as pd\n",
    "\n",
    "# Directory containing CSV files\n",
    "FOLDER_PATH = \"path/to/your/folder\"  # Change this to your folder path\n",
    "OUTPUT_FILE = \"combined_faqs.csv\"\n",
    "\n",
    "def combine_csv_files(folder_path, output_file):\n",
    "    all_files = [f for f in os.listdir(folder_path) if f.endswith('.csv')]\n",
    "    if not all_files:\n",
    "        print(\"No CSV files found in the directory.\")\n",
    "        return\n",
    "    \n",
    "    combined_df = pd.concat([pd.read_csv(os.path.join(folder_path, f)) for f in all_files], ignore_index=True)\n",
    "    combined_df.to_csv(output_file, index=False, encoding='utf-8')\n",
    "    print(f\"Combined {len(all_files)} CSV files into {output_file}\")\n",
    "\n",
    "if __name__ == \"__main__\":\n",
    "    combine_csv_files(FOLDER_PATH, OUTPUT_FILE)"
   ]
  }
 ],
 "metadata": {
  "language_info": {
   "name": "python"
  }
 },
 "nbformat": 4,
 "nbformat_minor": 2
}
